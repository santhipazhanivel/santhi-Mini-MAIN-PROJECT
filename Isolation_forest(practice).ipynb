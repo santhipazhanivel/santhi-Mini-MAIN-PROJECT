{
 "cells": [
  {
   "cell_type": "code",
   "execution_count": 1,
   "id": "097cff1c",
   "metadata": {},
   "outputs": [],
   "source": [
    "import numpy as np\n",
    "import pandas as pd\n",
    "from sklearn.ensemble import IsolationForest\n",
    "import matplotlib.pyplot as plt\n",
    "%matplotlib inline"
   ]
  },
  {
   "cell_type": "code",
   "execution_count": 2,
   "id": "52a0c975",
   "metadata": {},
   "outputs": [
    {
     "name": "stdout",
     "output_type": "stream",
     "text": [
      "   Year  Price\n",
      "0  1861   0.49\n",
      "1  1862   1.05\n",
      "2  1863   3.15\n",
      "3  1864   8.06\n"
     ]
    },
    {
     "data": {
      "text/plain": [
       "160"
      ]
     },
     "execution_count": 2,
     "metadata": {},
     "output_type": "execute_result"
    }
   ],
   "source": [
    "df=pd.read_csv(\"/home/datsy/Downloads/crude-oil-prices.csv\")\n",
    "print(df.head(4))\n",
    "df.shape[0]"
   ]
  },
  {
   "cell_type": "code",
   "execution_count": 3,
   "id": "e3f412cd",
   "metadata": {},
   "outputs": [
    {
     "data": {
      "text/plain": [
       "160"
      ]
     },
     "execution_count": 3,
     "metadata": {},
     "output_type": "execute_result"
    }
   ],
   "source": [
    "df = df.replace(np.nan, 0)\n",
    "df = df.reset_index(drop=True)\n",
    "df.shape[0]"
   ]
  },
  {
   "cell_type": "code",
   "execution_count": 4,
   "id": "21f0a9ac",
   "metadata": {},
   "outputs": [
    {
     "name": "stdout",
     "output_type": "stream",
     "text": [
      "iforest IsolationForest(contamination=0.5, n_estimators=20, random_state=42, verbose=2)\n"
     ]
    }
   ],
   "source": [
    "iForest = IsolationForest(n_estimators=20,max_samples='auto',\n",
    "                                             contamination=0.5,random_state=42 ,verbose=2)\n",
    "print(\"iforest\",iForest)"
   ]
  },
  {
   "cell_type": "code",
   "execution_count": 5,
   "id": "599220b3",
   "metadata": {},
   "outputs": [
    {
     "name": "stderr",
     "output_type": "stream",
     "text": [
      "[Parallel(n_jobs=1)]: Using backend SequentialBackend with 1 concurrent workers.\n",
      "[Parallel(n_jobs=1)]: Done   1 out of   1 | elapsed:    0.0s remaining:    0.0s\n",
      "[Parallel(n_jobs=1)]: Done   1 out of   1 | elapsed:    0.0s finished\n"
     ]
    },
    {
     "name": "stdout",
     "output_type": "stream",
     "text": [
      "Building estimator 1 of 20 for this parallel run (total 20)...\n",
      "Building estimator 2 of 20 for this parallel run (total 20)...\n",
      "Building estimator 3 of 20 for this parallel run (total 20)...\n",
      "Building estimator 4 of 20 for this parallel run (total 20)...\n",
      "Building estimator 5 of 20 for this parallel run (total 20)...\n",
      "Building estimator 6 of 20 for this parallel run (total 20)...\n",
      "Building estimator 7 of 20 for this parallel run (total 20)...\n",
      "Building estimator 8 of 20 for this parallel run (total 20)...\n",
      "Building estimator 9 of 20 for this parallel run (total 20)...\n",
      "Building estimator 10 of 20 for this parallel run (total 20)...\n",
      "Building estimator 11 of 20 for this parallel run (total 20)...\n",
      "Building estimator 12 of 20 for this parallel run (total 20)...\n",
      "Building estimator 13 of 20 for this parallel run (total 20)...\n",
      "Building estimator 14 of 20 for this parallel run (total 20)...\n",
      "Building estimator 15 of 20 for this parallel run (total 20)...\n",
      "Building estimator 16 of 20 for this parallel run (total 20)...\n",
      "Building estimator 17 of 20 for this parallel run (total 20)...\n",
      "Building estimator 18 of 20 for this parallel run (total 20)...\n",
      "Building estimator 19 of 20 for this parallel run (total 20)...\n",
      "Building estimator 20 of 20 for this parallel run (total 20)...\n"
     ]
    },
    {
     "data": {
      "text/plain": [
       "IsolationForest(contamination=0.5, n_estimators=20, random_state=42, verbose=2)"
      ]
     },
     "execution_count": 5,
     "metadata": {},
     "output_type": "execute_result"
    }
   ],
   "source": [
    "iForest.fit(df[['Price']])"
   ]
  },
  {
   "cell_type": "code",
   "execution_count": 6,
   "id": "24270fa7",
   "metadata": {},
   "outputs": [
    {
     "name": "stdout",
     "output_type": "stream",
     "text": [
      "     Year      Price  pred\n",
      "0    1861   0.490000    -1\n",
      "1    1862   1.050000     1\n",
      "2    1863   3.150000    -1\n",
      "3    1864   8.060000    -1\n",
      "4    1865   6.590000    -1\n",
      "..    ...        ...   ...\n",
      "155  2016  43.734170    -1\n",
      "156  2017  54.192440    -1\n",
      "157  2018  71.310060    -1\n",
      "158  2019  64.210573    -1\n",
      "159  2020  41.838346    -1\n",
      "\n",
      "[160 rows x 3 columns]\n"
     ]
    }
   ],
   "source": [
    "df['pred'] = iForest.predict(df[['Price']])\n",
    "print(df)"
   ]
  },
  {
   "cell_type": "code",
   "execution_count": 7,
   "id": "88df274a",
   "metadata": {},
   "outputs": [
    {
     "name": "stdout",
     "output_type": "stream",
     "text": [
      "     Year      Price  pred  new\n",
      "0    1861   0.490000    -1    1\n",
      "1    1862   1.050000     1    0\n",
      "2    1863   3.150000    -1    1\n",
      "3    1864   8.060000    -1    1\n",
      "4    1865   6.590000    -1    1\n",
      "..    ...        ...   ...  ...\n",
      "155  2016  43.734170    -1    1\n",
      "156  2017  54.192440    -1    1\n",
      "157  2018  71.310060    -1    1\n",
      "158  2019  64.210573    -1    1\n",
      "159  2020  41.838346    -1    1\n",
      "\n",
      "[160 rows x 4 columns]\n"
     ]
    }
   ],
   "source": [
    "\n",
    "df['new'] = np.where((df['pred'] == -1), 1, 0)\n",
    "print(df)"
   ]
  },
  {
   "cell_type": "code",
   "execution_count": 8,
   "id": "cdf03166",
   "metadata": {},
   "outputs": [],
   "source": [
    "df.to_csv(\"/home/datsy/Downloads/crude-oil-Isolation.csv\")"
   ]
  }
 ],
 "metadata": {
  "kernelspec": {
   "display_name": "Python 3 (ipykernel)",
   "language": "python",
   "name": "python3"
  },
  "language_info": {
   "codemirror_mode": {
    "name": "ipython",
    "version": 3
   },
   "file_extension": ".py",
   "mimetype": "text/x-python",
   "name": "python",
   "nbconvert_exporter": "python",
   "pygments_lexer": "ipython3",
   "version": "3.8.10"
  }
 },
 "nbformat": 4,
 "nbformat_minor": 5
}
